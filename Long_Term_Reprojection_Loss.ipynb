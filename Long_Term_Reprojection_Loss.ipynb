{
  "nbformat": 4,
  "nbformat_minor": 0,
  "metadata": {
    "colab": {
      "provenance": [],
      "gpuType": "T4",
      "include_colab_link": true
    },
    "kernelspec": {
      "name": "python3",
      "display_name": "Python 3"
    },
    "language_info": {
      "name": "python"
    },
    "accelerator": "GPU"
  },
  "cells": [
    {
      "cell_type": "markdown",
      "metadata": {
        "id": "view-in-github",
        "colab_type": "text"
      },
      "source": [
        "<a href=\"https://colab.research.google.com/github/mobarakol/3D_Attention_UNet/blob/main/Long_Term_Reprojection_Loss.ipynb\" target=\"_parent\"><img src=\"https://colab.research.google.com/assets/colab-badge.svg\" alt=\"Open In Colab\"/></a>"
      ]
    },
    {
      "cell_type": "code",
      "execution_count": 1,
      "metadata": {
        "colab": {
          "base_uri": "https://localhost:8080/"
        },
        "id": "AjiKLPSD_k3N",
        "outputId": "75910b38-910d-4abe-e394-7f1d3cd0a880"
      },
      "outputs": [
        {
          "output_type": "stream",
          "name": "stdout",
          "text": [
            "Cloning into 'LTRL_DEV'...\n",
            "remote: Enumerating objects: 66, done.\u001b[K\n",
            "remote: Counting objects: 100% (66/66), done.\u001b[K\n",
            "remote: Compressing objects: 100% (51/51), done.\u001b[K\n",
            "remote: Total 66 (delta 17), reused 53 (delta 12), pack-reused 0\u001b[K\n",
            "Receiving objects: 100% (66/66), 131.33 KiB | 8.21 MiB/s, done.\n",
            "Resolving deltas: 100% (17/17), done.\n",
            "/content/LTRL_DEV\n"
          ]
        }
      ],
      "source": [
        "!git clone https://github.com/mobarakol/LTRL_DEV.git\n",
        "%cd LTRL_DEV"
      ]
    },
    {
      "cell_type": "code",
      "source": [
        "import gdown\n",
        "\n",
        "d3k4_url = 'https://drive.google.com/uc?id=1_HrQTeZgU3AE88p1Ykawi2lkdijRNQVz'\n",
        "gdown.download(d3k4_url,'d3k4.zip',quiet=True)\n",
        "!unzip -q d3k4.zip\n",
        "\n",
        "d3k4_url = 'https://drive.google.com/uc?id=1B_auq0oUoXuk_YfoidE0B90YGazoVm2Y'\n",
        "gdown.download(d3k4_url,'weights_19.zip',quiet=True)\n",
        "!unzip -q weights_19.zip"
      ],
      "metadata": {
        "id": "BtbUK_xL__vW"
      },
      "execution_count": 2,
      "outputs": []
    },
    {
      "cell_type": "code",
      "source": [
        "!mkdir 02\n",
        "!mv -f d3k4 02/"
      ],
      "metadata": {
        "id": "uVuyUcBmB0mh"
      },
      "execution_count": 3,
      "outputs": []
    },
    {
      "cell_type": "code",
      "source": [
        "%cd /content/LTRL_DEV\n",
        "!python evaluate_pose.py --data_path '' --eval_split endovis --load_weights_folder weights_19 --batch_size 8"
      ],
      "metadata": {
        "colab": {
          "base_uri": "https://localhost:8080/"
        },
        "id": "gfFDYJV2AGof",
        "outputId": "7683211f-1dcc-40f4-9cba-b58716938582"
      },
      "execution_count": 2,
      "outputs": [
        {
          "output_type": "stream",
          "name": "stdout",
          "text": [
            "/content/LTRL_DEV\n",
            "/usr/local/lib/python3.10/dist-packages/torch/utils/data/dataloader.py:557: UserWarning: This DataLoader will create 12 worker processes in total. Our suggested max number of worker in current system is 2, which is smaller than what this DataLoader is going to create. Please be aware that excessive worker creation might get DataLoader running slow or even freeze, lower the worker number to avoid potential slowness/freeze if necessary.\n",
            "  warnings.warn(_create_warning_msg(\n",
            "total samples:  833\n",
            "batch size:  8\n",
            "number of batch / epoch:  105\n",
            "-> Computing pose predictions\n",
            "\n",
            "   Trajectory error: 0.0512, std: 0.0294\n",
            "\n",
            "\n",
            "   Rotation error: 0.0032, std: 0.0020\n",
            "\n"
          ]
        }
      ]
    },
    {
      "cell_type": "code",
      "source": [],
      "metadata": {
        "id": "c2K-CJpKE66c"
      },
      "execution_count": null,
      "outputs": []
    }
  ]
}